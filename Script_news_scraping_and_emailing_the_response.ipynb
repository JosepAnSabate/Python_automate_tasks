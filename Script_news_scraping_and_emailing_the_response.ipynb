{
 "cells": [
  {
   "cell_type": "code",
   "execution_count": 1,
   "id": "4e702e52",
   "metadata": {},
   "outputs": [],
   "source": [
    "import requests # http req\n",
    "from bs4 import BeautifulSoup # web scraping\n",
    "import smtplib # send the email\n",
    "from smtplib import SMTP_SSL as SMTP       # this invokes the secure SMTP protocol (port 465, uses SSL)\n",
    "\n",
    "# email body\n",
    "from email.mime.multipart import MIMEMultipart\n",
    "from email.mime.text import MIMEText\n",
    "# system date and time manipulation\n",
    "import datetime\n",
    "now = datetime.datetime.now()"
   ]
  },
  {
   "cell_type": "code",
   "execution_count": 2,
   "id": "172a3486",
   "metadata": {},
   "outputs": [],
   "source": [
    "# email content placeholder\n",
    "content = ''"
   ]
  },
  {
   "cell_type": "code",
   "execution_count": 3,
   "id": "93d72699",
   "metadata": {},
   "outputs": [
    {
     "name": "stdout",
     "output_type": "stream",
     "text": [
      "Extracting Hacker new stories....\n"
     ]
    }
   ],
   "source": [
    "# extracting Hacker News Stories\n",
    "def extract_news(url):\n",
    "    print('Extracting Hacker new stories....')\n",
    "    cnt = ''\n",
    "    cnt +=('<b>HN Top Stories:</b>\\n'+'<br>'+'-'*50+'<br>')\n",
    "    response = requests.get(url)\n",
    "    content = response.content\n",
    "    soup = BeautifulSoup(content, 'html.parser')\n",
    "    for i,tag in enumerate(soup.find_all('td', attrs={'class': 'title', 'valign':''})): #td table, busquem els titles\n",
    "        cnt += ((str(i+1)+' :: '+tag.text + \"\\n\"+'<br>') if tag.text!='More' else '') # More news is avoided\n",
    "        #print(tag.prettify) # find all('span', attrs={'class': 'sister'})\n",
    "    return(cnt)\n",
    "\n",
    "cnt = extract_news('https://news.ycombinator.com/')\n",
    "content += cnt\n",
    "content += ('<br>-------<br>')\n",
    "content += ('<br><br>End of Message')"
   ]
  },
  {
   "cell_type": "code",
   "execution_count": 4,
   "id": "ca006212",
   "metadata": {},
   "outputs": [
    {
     "name": "stdout",
     "output_type": "stream",
     "text": [
      "Composing the email...\n"
     ]
    }
   ],
   "source": [
    "#lets send the email\n",
    "print('Composing the email...')\n",
    "\n",
    "#update your email details\n",
    "\n",
    "SERVER= 'stmp.gmail.com' #your smtp server\n",
    "PORT= 587 #your port number\n",
    "FROM= 'jitupedret@gmail.com'#your from email id\n",
    "TO='jitupedret@gmail.com'# your to email ids # can be a list\n",
    "PASS = 'celdoni95' #your email id's passw\n",
    "\n"
   ]
  },
  {
   "cell_type": "code",
   "execution_count": 5,
   "id": "e0a8908f",
   "metadata": {},
   "outputs": [
    {
     "name": "stdout",
     "output_type": "stream",
     "text": [
      "Initiating server...\n"
     ]
    }
   ],
   "source": [
    "msg = MIMEMultipart() \n",
    "\n",
    "# msg.add_header('Content-Disposition', 'attachment', filename='empty.txt')\n",
    "msg['subject'] = 'Top Newa Stories HN [Automated Email]' + ' ' + str(now.day) + '_' + str(now.month)  + '_' + str(now.year)\n",
    "msg['From'] =  FROM\n",
    "msg['To'] = TO\n",
    "\n",
    "msg.attach(MIMEText (content, 'html'))\n",
    "\n",
    "print('Initiating server...')"
   ]
  },
  {
   "cell_type": "code",
   "execution_count": 6,
   "id": "6e43787e",
   "metadata": {},
   "outputs": [],
   "source": [
    "server = smtplib.SMTP('64.233.184.108', PORT)\n",
    "# that's the IP address of smtp.gmail.com, to bypass DNS resolution. With Server no funciona"
   ]
  },
  {
   "cell_type": "code",
   "execution_count": 7,
   "id": "d6ff7771",
   "metadata": {},
   "outputs": [
    {
     "name": "stderr",
     "output_type": "stream",
     "text": [
      "send: 'ehlo [172.25.96.1]\\r\\n'\n",
      "reply: b'250-smtp.gmail.com at your service, [85.48.248.195]\\r\\n'\n",
      "reply: b'250-SIZE 35882577\\r\\n'\n",
      "reply: b'250-8BITMIME\\r\\n'\n",
      "reply: b'250-STARTTLS\\r\\n'\n",
      "reply: b'250-ENHANCEDSTATUSCODES\\r\\n'\n",
      "reply: b'250-PIPELINING\\r\\n'\n",
      "reply: b'250-CHUNKING\\r\\n'\n",
      "reply: b'250 SMTPUTF8\\r\\n'\n",
      "reply: retcode (250); Msg: b'smtp.gmail.com at your service, [85.48.248.195]\\nSIZE 35882577\\n8BITMIME\\nSTARTTLS\\nENHANCEDSTATUSCODES\\nPIPELINING\\nCHUNKING\\nSMTPUTF8'\n",
      "send: 'STARTTLS\\r\\n'\n",
      "reply: b'220 2.0.0 Ready to start TLS\\r\\n'\n",
      "reply: retcode (220); Msg: b'2.0.0 Ready to start TLS'\n"
     ]
    },
    {
     "data": {
      "text/plain": [
       "(220, b'2.0.0 Ready to start TLS')"
      ]
     },
     "execution_count": 7,
     "metadata": {},
     "output_type": "execute_result"
    }
   ],
   "source": [
    "server.set_debuglevel(1) #0 not show error messages, 1 si\n",
    "server.ehlo()   # initiase conection\n",
    "server.starttls() # start conection\n"
   ]
  },
  {
   "cell_type": "code",
   "execution_count": 8,
   "id": "df68a78f",
   "metadata": {},
   "outputs": [
    {
     "name": "stderr",
     "output_type": "stream",
     "text": [
      "send: 'ehlo [172.25.96.1]\\r\\n'\n",
      "reply: b'250-smtp.gmail.com at your service, [85.48.248.195]\\r\\n'\n",
      "reply: b'250-SIZE 35882577\\r\\n'\n",
      "reply: b'250-8BITMIME\\r\\n'\n",
      "reply: b'250-AUTH LOGIN PLAIN XOAUTH2 PLAIN-CLIENTTOKEN OAUTHBEARER XOAUTH\\r\\n'\n",
      "reply: b'250-ENHANCEDSTATUSCODES\\r\\n'\n",
      "reply: b'250-PIPELINING\\r\\n'\n",
      "reply: b'250-CHUNKING\\r\\n'\n",
      "reply: b'250 SMTPUTF8\\r\\n'\n",
      "reply: retcode (250); Msg: b'smtp.gmail.com at your service, [85.48.248.195]\\nSIZE 35882577\\n8BITMIME\\nAUTH LOGIN PLAIN XOAUTH2 PLAIN-CLIENTTOKEN OAUTHBEARER XOAUTH\\nENHANCEDSTATUSCODES\\nPIPELINING\\nCHUNKING\\nSMTPUTF8'\n",
      "send: 'AUTH PLAIN AGppdHVwZWRyZXRAZ21haWwuY29tAGNlbGRvbmk5NQ==\\r\\n'\n",
      "reply: b'235 2.7.0 Accepted\\r\\n'\n",
      "reply: retcode (235); Msg: b'2.7.0 Accepted'\n",
      "send: 'mail FROM:<jitupedret@gmail.com> size=3694\\r\\n'\n",
      "reply: b'250 2.1.0 OK e13sm5816767wmq.10 - gsmtp\\r\\n'\n",
      "reply: retcode (250); Msg: b'2.1.0 OK e13sm5816767wmq.10 - gsmtp'\n",
      "send: 'rcpt TO:<jitupedret@gmail.com>\\r\\n'\n",
      "reply: b'250 2.1.5 OK e13sm5816767wmq.10 - gsmtp\\r\\n'\n",
      "reply: retcode (250); Msg: b'2.1.5 OK e13sm5816767wmq.10 - gsmtp'\n",
      "send: 'data\\r\\n'\n",
      "reply: b'354  Go ahead e13sm5816767wmq.10 - gsmtp\\r\\n'\n",
      "reply: retcode (354); Msg: b'Go ahead e13sm5816767wmq.10 - gsmtp'\n",
      "data: (354, b'Go ahead e13sm5816767wmq.10 - gsmtp')\n",
      "send: b'Content-Type: multipart/mixed; boundary=\"===============5215807499794530196==\"\\r\\nMIME-Version: 1.0\\r\\nsubject: Top Newa Stories HN [Automated Email] 22_12_2021\\r\\nFrom: jitupedret@gmail.com\\r\\nTo: jitupedret@gmail.com\\r\\n\\r\\n--===============5215807499794530196==\\r\\nContent-Type: text/html; charset=\"utf-8\"\\r\\nMIME-Version: 1.0\\r\\nContent-Transfer-Encoding: base64\\r\\n\\r\\nPGI+SE4gVG9wIFN0b3JpZXM6PC9iPgo8YnI+LS0tLS0tLS0tLS0tLS0tLS0tLS0tLS0tLS0tLS0t\\r\\nLS0tLS0tLS0tLS0tLS0tLS0tLS08YnI+MSA6OiBTYWxhcmllcyBvZiBhbG1vc3QgYWxsIEFsYmFu\\r\\naWFuIGVtcGxveWVlcyBhcmUgYmVpbmcgY2lyY3VsYXRlZCBvbmxpbmUgKGJhbGthbmluc2lnaHQu\\r\\nY29tKQo8YnI+MiA6OiBQcmluY2V0b24gcmVzZWFyY2hlciBhcG9sb2dpemVzIGZvciBHRFBSL0ND\\r\\nUEEgZW1haWwgc3R1ZHkgKHByaW5jZXRvbi5lZHUpCjxicj4zIDo6IEVkLVRlY2ggQ29tcGFueSBT\\r\\na2lsbHNvZnQgQnV5cyBDb2RlY2FkZW15IGZvciAkNTI1TSAoc2tpbGxzb2Z0LmNvbSkKPGJyPjQg\\r\\nOjogRnJlZUJTRCBKYWlscyBmb3IgRnVuIGFuZCBQcm9maXQgKHRvcGlrZXR0dW5lbi5jb20pCjxi\\r\\ncj41IDo6IFRoZSBEcmVhbWNhc3QgTGVnYWN5IChoYWNrYWRheS5jb20pCjxicj42IDo6IFVuZGVy\\r\\nZ3JvdW5kIENlbGxhciAoWUMgVzE1KSBJcyBIaXJpbmcgYSBTZW5pb3IgRnVsbCBTdGFjayBFbmdp\\r\\nbmVlciAobGV2ZXIuY28pCjxicj43IDo6IEFXUyBhcHBlYXJzIHRvIGJlIGRvd24gYWdhaW4KPGJy\\r\\nPjggOjogUmFzcGJlcnJ5IFBpIGhvbGRzIGl0cyBvd24gYWdhaW5zdCBsb3ctY29zdCBBUk0gTkFT\\r\\nIChqZWZmZ2VlcmxpbmcuY29tKQo8YnI+OSA6OiBJTUYsIDEwIGNvdW50cmllcyBzaW11bGF0ZSBj\\r\\neWJlciBhdHRhY2sgb24gZ2xvYmFsIGZpbmFuY2lhbCBzeXN0ZW0gKG5hc2RhcS5jb20pCjxicj4x\\r\\nMCA6OiBHbyBHZW5lcmljcyBGYWNpbGl0YXRvcnMgKHJha3lsbC5vcmcpCjxicj4xMSA6OiBUZWNo\\r\\nbm9sb2d5IEJlaGluZCB0aGUgTGlsaXVtIEpldCAobGlsaXVtLmNvbSkKPGJyPjEyIDo6IEROQSBz\\r\\nZWVuIHRocm91Z2ggdGhlIGV5ZXMgb2YgYSBjb2RlciAoYmVydGh1Yi5ldSkKPGJyPjEzIDo6IFBh\\r\\ncnNlciBDb21iaW5hdG9ycyBpbiBIYXNrZWxsIChzZXJva2VsbC5pbykKPGJyPjE0IDo6IFNuYXBz\\r\\naG90dGluZyBtZW1vcnkgdG8gc2NyYXBlIGVuY3J5cHRlZCBuZXR3b3JrIHJlcXVlc3RzIChqb25s\\r\\ndS5jYSkKPGJyPjE1IDo6IFRoZSBzZWNyZXQgVWdhbmRhIGRlYWwgdGhhdCBoYXMgYnJvdWdodCBO\\r\\nU08gdG8gdGhlIGJyaW5rIG9mIGNvbGxhcHNlIChmdC5jb20pCjxicj4xNiA6OiBOQ1NBIGNyZWF0\\r\\nZXMgU29ueSBQbGF5U3RhdGlvbjIgY2x1c3RlciAoMjAwMykgKGlsbGlub2lzLmVkdSkKPGJyPjE3\\r\\nIDo6IFB1cmUgQmFzaCBsaWdodHdlaWdodCB3ZWIgc2VydmVyIChnaXRodWIuY29tL3JlbWlsZWR1\\r\\nYykKPGJyPjE4IDo6IE1pbGxlciDigJMgdG9vbCBmb3IgcXVlcnlpbmcsIHNoYXBpbmcsIHJlZm9y\\r\\nbWF0dGluZyBkYXRhIGluIENTViwgVFNWLCBhbmQgSlNPTiAobWlsbGVyLnJlYWR0aGVkb2NzLmlv\\r\\nKQo8YnI+MTkgOjogT3N0cmljaCBFZ2dzaGVsbCBCZWFkcyBSZXZlYWwgNTBrLVllYXItT2xkIFNv\\r\\nY2lhbCBOZXR3b3JrIEFjcm9zcyBBZnJpY2EgKG1wZy5kZSkKPGJyPjIwIDo6IEkgZGlkIGEgTWl4\\r\\nZXJneSBpbnRlcnZpZXcgc28gYmFkIHRoZXkgZGlkbid0IGV2ZW4gcmVsZWFzZSBpdCAocm9iZml0\\r\\nei5jb20pCjxicj4yMSA6OiBHb29nbGUgRHJpdmUgbWF5IHJlc3RyaWN0IGZpbGVzIGlkZW50aWZp\\r\\nZWQgYXMgdmlvbGF0aW5nIFRvUyAoZ29vZ2xlYmxvZy5jb20pCjxicj4yMiA6OiBSb2NreSBNb3Vu\\r\\ndGFpbiBCYXNpYyAod2lraXBlZGlhLm9yZykKPGJyPjIzIDo6IFVsdG9yZzogQSBHZW5lcmFsLVB1\\r\\ncnBvc2UgVXNlciBJbnRlcmZhY2UgZm9yIFJlbGF0aW9uYWwgRGF0YWJhc2VzICgyMDIwKSBbdmlk\\r\\nZW9dICh5b3V0dWJlLmNvbSkKPGJyPjI0IDo6IERlZXBNaW5k4oCZcyBOZXcgQUkgd2l0aCBhIE1l\\r\\nbW9yeSBPdXRwZXJmb3JtcyBBbGdvcml0aG1zIDI1IFRpbWVzIEl0cyBTaXplIChzaW5ndWxhcml0\\r\\neWh1Yi5jb20pCjxicj4yNSA6OiBDaHJpc3RtYXMgVW5kZXIgdGhlIFB1cml0YW5zICgxOTYwKSAo\\r\\naGlzdG9yeXRvZGF5LmNvbSkKPGJyPjI2IDo6IEFuY2llbnQgRE5BIHJldmVhbHMgdGhlIHdvcmxk\\r\\n4oCZcyBvbGRlc3QgZmFtaWx5IHRyZWUgKG5jbC5hYy51aykKPGJyPjI3IDo6IFRlbGxlciBSZXZl\\r\\nYWxzIEhpcyBTZWNyZXRzICgyMDEyKSAoc21pdGhzb25pYW5tYWcuY29tKQo8YnI+MjggOjogRXZl\\r\\ncnl0aGluZyBJJ3ZlIHNlZW4gb24gb3B0aW1pemluZyBQb3N0Z3JlcyBvbiBaRlMgKHZhZG9zd2Fy\\r\\nZS5pbykKPGJyPjI5IDo6IFNjaWVudGlzdHMgZmluZCBwcmVzZXJ2ZWQgZGlub3NhdXIgZW1icnlv\\r\\nIHByZXBhcmluZyB0byBoYXRjaCBsaWtlIGEgYmlyZCAodGhlZ3VhcmRpYW4uY29tKQo8YnI+MzAg\\r\\nOjogU2hvdyBITjogTWV0YWhlYWRzLCBhIHNlYXJjaCBlbmdpbmUgZm9yIEZhY2Vib29rIGNvbW1l\\r\\nbnRzIGluIHRoZSBVUyAobWV0YWhlYWRzLnh5eikKPGJyPjxicj4tLS0tLS0tPGJyPjxicj48YnI+\\r\\nRW5kIG9mIE1lc3NhZ2U=\\r\\n\\r\\n--===============5215807499794530196==--\\r\\n.\\r\\n'\n"
     ]
    },
    {
     "name": "stdout",
     "output_type": "stream",
     "text": [
      "Email Sent...\n"
     ]
    },
    {
     "name": "stderr",
     "output_type": "stream",
     "text": [
      "reply: b'250 2.0.0 OK  1640193236 e13sm5816767wmq.10 - gsmtp\\r\\n'\n",
      "reply: retcode (250); Msg: b'2.0.0 OK  1640193236 e13sm5816767wmq.10 - gsmtp'\n",
      "data: (250, b'2.0.0 OK  1640193236 e13sm5816767wmq.10 - gsmtp')\n",
      "send: 'quit\\r\\n'\n",
      "reply: b'221 2.0.0 closing connection e13sm5816767wmq.10 - gsmtp\\r\\n'\n",
      "reply: retcode (221); Msg: b'2.0.0 closing connection e13sm5816767wmq.10 - gsmtp'\n"
     ]
    },
    {
     "data": {
      "text/plain": [
       "(221, b'2.0.0 closing connection e13sm5816767wmq.10 - gsmtp')"
      ]
     },
     "execution_count": 8,
     "metadata": {},
     "output_type": "execute_result"
    }
   ],
   "source": [
    "server.login(FROM, PASS)\n",
    "server.sendmail(FROM, TO, msg.as_string())\n",
    "\n",
    "print('Email Sent...')\n",
    "server.quit() # tancar sever"
   ]
  },
  {
   "cell_type": "code",
   "execution_count": null,
   "id": "65337992",
   "metadata": {},
   "outputs": [],
   "source": []
  }
 ],
 "metadata": {
  "kernelspec": {
   "display_name": "Python 3 (ipykernel)",
   "language": "python",
   "name": "python3"
  },
  "language_info": {
   "codemirror_mode": {
    "name": "ipython",
    "version": 3
   },
   "file_extension": ".py",
   "mimetype": "text/x-python",
   "name": "python",
   "nbconvert_exporter": "python",
   "pygments_lexer": "ipython3",
   "version": "3.8.10"
  }
 },
 "nbformat": 4,
 "nbformat_minor": 5
}
