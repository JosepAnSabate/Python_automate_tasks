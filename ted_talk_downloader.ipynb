{
 "cells": [
  {
   "cell_type": "code",
   "execution_count": 1,
   "id": "9d47c94f",
   "metadata": {},
   "outputs": [],
   "source": [
    "import requests #getting content of the TED Talk page\n",
    "\n",
    "from bs4 import BeautifulSoup #web scraping\n",
    "\n",
    "import re #Regular Expression pattern matching\n",
    "\n",
    "# from urllib.request import urlretrieve #downloading mp4\n",
    "\n",
    "import sys #for argument parsing"
   ]
  },
  {
   "cell_type": "code",
   "execution_count": 2,
   "id": "19e429f4",
   "metadata": {},
   "outputs": [],
   "source": [
    "# Exception Handling\n",
    "\n",
    "if len(sys.argv) > 1:\n",
    "    url = sys.argv[1]\n",
    "else:\n",
    "    sys.exit(\"Error: Please enter the TED Talk URL\")"
   ]
  },
  {
   "cell_type": "code",
   "execution_count": 3,
   "id": "da057bb3",
   "metadata": {},
   "outputs": [
    {
     "name": "stdout",
     "output_type": "stream",
     "text": [
      "Download about to start\n"
     ]
    }
   ],
   "source": [
    "url = \"https://www.ted.com/talks/jia_jiang_what_i_learned_from_100_days_of_rejection\"\n",
    "\n",
    "#url = \"https://www.ted.com/talks/ken_robinson_says_schools_kill_creativity\"\n",
    "\n",
    "r = requests.get(url)\n",
    "\n",
    "print(\"Download about to start\")"
   ]
  },
  {
   "cell_type": "code",
   "execution_count": 4,
   "id": "3e1072fd",
   "metadata": {},
   "outputs": [
    {
     "name": "stdout",
     "output_type": "stream",
     "text": [
      "Downloading video from ..... https://download.ted.com/products/88756.mp4?apikey=acme-roadrunner\n"
     ]
    }
   ],
   "source": [
    "soup = BeautifulSoup(r.content, features=\"lxml\")\n",
    "\n",
    "for val in soup.findAll(\"script\"):\n",
    "    if(re.search(\"talkPage.init\",str(val))) is not None:\n",
    "        result = str(val)\n",
    "\n",
    "result_mp4 = re.search(\"(?P<url>https?://[^\\s]+)(mp4)\", result).group(\"url\")\n",
    "\n",
    "mp4_url = result_mp4.split('\"')[0] # split on separators'''', [0] = first output\n",
    "\n",
    "print(\"Downloading video from ..... \" + mp4_url)"
   ]
  },
  {
   "cell_type": "code",
   "execution_count": 5,
   "id": "6a9ad219",
   "metadata": {},
   "outputs": [
    {
     "name": "stdout",
     "output_type": "stream",
     "text": [
      "Storing video in ..... 88756.mp4\n"
     ]
    }
   ],
   "source": [
    "file_name = mp4_url.split(\"/\")[len(mp4_url.split(\"/\"))-1].split('?')[0] \n",
    "\n",
    "print(\"Storing video in ..... \" + file_name)"
   ]
  },
  {
   "cell_type": "code",
   "execution_count": 6,
   "id": "543f54df",
   "metadata": {},
   "outputs": [
    {
     "name": "stdout",
     "output_type": "stream",
     "text": [
      "Download Process finished\n"
     ]
    }
   ],
   "source": [
    "r = requests.get(mp4_url)\n",
    "\n",
    "with open(file_name,'wb') as f:\n",
    "  f.write(r.content)\n",
    "\n",
    "# Alternate method\n",
    "#urlretrieve(mp4_url,file_name)\n",
    "\n",
    "print(\"Download Process finished\")"
   ]
  },
  {
   "cell_type": "code",
   "execution_count": null,
   "id": "ff031254",
   "metadata": {},
   "outputs": [],
   "source": []
  }
 ],
 "metadata": {
  "kernelspec": {
   "display_name": "Python 3 (ipykernel)",
   "language": "python",
   "name": "python3"
  },
  "language_info": {
   "codemirror_mode": {
    "name": "ipython",
    "version": 3
   },
   "file_extension": ".py",
   "mimetype": "text/x-python",
   "name": "python",
   "nbconvert_exporter": "python",
   "pygments_lexer": "ipython3",
   "version": "3.8.10"
  }
 },
 "nbformat": 4,
 "nbformat_minor": 5
}
